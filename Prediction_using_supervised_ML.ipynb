{
  "nbformat": 4,
  "nbformat_minor": 0,
  "metadata": {
    "colab": {
      "provenance": []
    },
    "kernelspec": {
      "name": "python3",
      "display_name": "Python 3"
    },
    "language_info": {
      "name": "python"
    }
  },
  "cells": [
    {
      "cell_type": "markdown",
      "source": [
        "# ***THE SPARKS FOUNDATION***"
      ],
      "metadata": {
        "id": "0eq7VY3XcV7j"
      }
    },
    {
      "cell_type": "markdown",
      "source": [
        "### ***TASK-1***"
      ],
      "metadata": {
        "id": "GF9aj0cpcePB"
      }
    },
    {
      "cell_type": "markdown",
      "source": [
        "### ***PREDICTION USING SUPERVISED ML***"
      ],
      "metadata": {
        "id": "FoRZP1d8cho7"
      }
    },
    {
      "cell_type": "markdown",
      "source": [
        "Prediction of scores secured by the students based on the number of hours they spent\n",
        "\n",
        "\n",
        "\n"
      ],
      "metadata": {
        "id": "8F1aCpqWcm52"
      }
    },
    {
      "cell_type": "markdown",
      "source": [
        "# ***Author : Bhogi Sumasri***"
      ],
      "metadata": {
        "id": "77gglwQYcrom"
      }
    },
    {
      "cell_type": "markdown",
      "source": [
        "Importing libraries"
      ],
      "metadata": {
        "id": "1sMXkQNbcx_O"
      }
    },
    {
      "cell_type": "code",
      "source": [
        "#importing libraries\n",
        "import pandas as pd\n",
        "import numpy as np\n",
        "import matplotlib.pyplot as plt\n",
        "%matplotlib inline"
      ],
      "metadata": {
        "id": "ITfr5VpJNQu3"
      },
      "execution_count": null,
      "outputs": []
    },
    {
      "cell_type": "code",
      "source": [
        "data = pd.read_csv('http://bit.ly/w-data')\n",
        "print(\"Data imported\")\n",
        "data"
      ],
      "metadata": {
        "colab": {
          "base_uri": "https://localhost:8080/",
          "height": 850
        },
        "id": "UlS7IHnjNvlS",
        "outputId": "de18b9a9-7d49-4d45-b3f7-3cb568c159d9"
      },
      "execution_count": null,
      "outputs": [
        {
          "output_type": "stream",
          "name": "stdout",
          "text": [
            "Data imported\n"
          ]
        },
        {
          "output_type": "execute_result",
          "data": {
            "text/plain": [
              "    Hours  Scores\n",
              "0     2.5      21\n",
              "1     5.1      47\n",
              "2     3.2      27\n",
              "3     8.5      75\n",
              "4     3.5      30\n",
              "5     1.5      20\n",
              "6     9.2      88\n",
              "7     5.5      60\n",
              "8     8.3      81\n",
              "9     2.7      25\n",
              "10    7.7      85\n",
              "11    5.9      62\n",
              "12    4.5      41\n",
              "13    3.3      42\n",
              "14    1.1      17\n",
              "15    8.9      95\n",
              "16    2.5      30\n",
              "17    1.9      24\n",
              "18    6.1      67\n",
              "19    7.4      69\n",
              "20    2.7      30\n",
              "21    4.8      54\n",
              "22    3.8      35\n",
              "23    6.9      76\n",
              "24    7.8      86"
            ],
            "text/html": [
              "\n",
              "  <div id=\"df-5a38b52d-0ff0-4662-bfcb-f1634fe8a011\">\n",
              "    <div class=\"colab-df-container\">\n",
              "      <div>\n",
              "<style scoped>\n",
              "    .dataframe tbody tr th:only-of-type {\n",
              "        vertical-align: middle;\n",
              "    }\n",
              "\n",
              "    .dataframe tbody tr th {\n",
              "        vertical-align: top;\n",
              "    }\n",
              "\n",
              "    .dataframe thead th {\n",
              "        text-align: right;\n",
              "    }\n",
              "</style>\n",
              "<table border=\"1\" class=\"dataframe\">\n",
              "  <thead>\n",
              "    <tr style=\"text-align: right;\">\n",
              "      <th></th>\n",
              "      <th>Hours</th>\n",
              "      <th>Scores</th>\n",
              "    </tr>\n",
              "  </thead>\n",
              "  <tbody>\n",
              "    <tr>\n",
              "      <th>0</th>\n",
              "      <td>2.5</td>\n",
              "      <td>21</td>\n",
              "    </tr>\n",
              "    <tr>\n",
              "      <th>1</th>\n",
              "      <td>5.1</td>\n",
              "      <td>47</td>\n",
              "    </tr>\n",
              "    <tr>\n",
              "      <th>2</th>\n",
              "      <td>3.2</td>\n",
              "      <td>27</td>\n",
              "    </tr>\n",
              "    <tr>\n",
              "      <th>3</th>\n",
              "      <td>8.5</td>\n",
              "      <td>75</td>\n",
              "    </tr>\n",
              "    <tr>\n",
              "      <th>4</th>\n",
              "      <td>3.5</td>\n",
              "      <td>30</td>\n",
              "    </tr>\n",
              "    <tr>\n",
              "      <th>5</th>\n",
              "      <td>1.5</td>\n",
              "      <td>20</td>\n",
              "    </tr>\n",
              "    <tr>\n",
              "      <th>6</th>\n",
              "      <td>9.2</td>\n",
              "      <td>88</td>\n",
              "    </tr>\n",
              "    <tr>\n",
              "      <th>7</th>\n",
              "      <td>5.5</td>\n",
              "      <td>60</td>\n",
              "    </tr>\n",
              "    <tr>\n",
              "      <th>8</th>\n",
              "      <td>8.3</td>\n",
              "      <td>81</td>\n",
              "    </tr>\n",
              "    <tr>\n",
              "      <th>9</th>\n",
              "      <td>2.7</td>\n",
              "      <td>25</td>\n",
              "    </tr>\n",
              "    <tr>\n",
              "      <th>10</th>\n",
              "      <td>7.7</td>\n",
              "      <td>85</td>\n",
              "    </tr>\n",
              "    <tr>\n",
              "      <th>11</th>\n",
              "      <td>5.9</td>\n",
              "      <td>62</td>\n",
              "    </tr>\n",
              "    <tr>\n",
              "      <th>12</th>\n",
              "      <td>4.5</td>\n",
              "      <td>41</td>\n",
              "    </tr>\n",
              "    <tr>\n",
              "      <th>13</th>\n",
              "      <td>3.3</td>\n",
              "      <td>42</td>\n",
              "    </tr>\n",
              "    <tr>\n",
              "      <th>14</th>\n",
              "      <td>1.1</td>\n",
              "      <td>17</td>\n",
              "    </tr>\n",
              "    <tr>\n",
              "      <th>15</th>\n",
              "      <td>8.9</td>\n",
              "      <td>95</td>\n",
              "    </tr>\n",
              "    <tr>\n",
              "      <th>16</th>\n",
              "      <td>2.5</td>\n",
              "      <td>30</td>\n",
              "    </tr>\n",
              "    <tr>\n",
              "      <th>17</th>\n",
              "      <td>1.9</td>\n",
              "      <td>24</td>\n",
              "    </tr>\n",
              "    <tr>\n",
              "      <th>18</th>\n",
              "      <td>6.1</td>\n",
              "      <td>67</td>\n",
              "    </tr>\n",
              "    <tr>\n",
              "      <th>19</th>\n",
              "      <td>7.4</td>\n",
              "      <td>69</td>\n",
              "    </tr>\n",
              "    <tr>\n",
              "      <th>20</th>\n",
              "      <td>2.7</td>\n",
              "      <td>30</td>\n",
              "    </tr>\n",
              "    <tr>\n",
              "      <th>21</th>\n",
              "      <td>4.8</td>\n",
              "      <td>54</td>\n",
              "    </tr>\n",
              "    <tr>\n",
              "      <th>22</th>\n",
              "      <td>3.8</td>\n",
              "      <td>35</td>\n",
              "    </tr>\n",
              "    <tr>\n",
              "      <th>23</th>\n",
              "      <td>6.9</td>\n",
              "      <td>76</td>\n",
              "    </tr>\n",
              "    <tr>\n",
              "      <th>24</th>\n",
              "      <td>7.8</td>\n",
              "      <td>86</td>\n",
              "    </tr>\n",
              "  </tbody>\n",
              "</table>\n",
              "</div>\n",
              "      <button class=\"colab-df-convert\" onclick=\"convertToInteractive('df-5a38b52d-0ff0-4662-bfcb-f1634fe8a011')\"\n",
              "              title=\"Convert this dataframe to an interactive table.\"\n",
              "              style=\"display:none;\">\n",
              "        \n",
              "  <svg xmlns=\"http://www.w3.org/2000/svg\" height=\"24px\"viewBox=\"0 0 24 24\"\n",
              "       width=\"24px\">\n",
              "    <path d=\"M0 0h24v24H0V0z\" fill=\"none\"/>\n",
              "    <path d=\"M18.56 5.44l.94 2.06.94-2.06 2.06-.94-2.06-.94-.94-2.06-.94 2.06-2.06.94zm-11 1L8.5 8.5l.94-2.06 2.06-.94-2.06-.94L8.5 2.5l-.94 2.06-2.06.94zm10 10l.94 2.06.94-2.06 2.06-.94-2.06-.94-.94-2.06-.94 2.06-2.06.94z\"/><path d=\"M17.41 7.96l-1.37-1.37c-.4-.4-.92-.59-1.43-.59-.52 0-1.04.2-1.43.59L10.3 9.45l-7.72 7.72c-.78.78-.78 2.05 0 2.83L4 21.41c.39.39.9.59 1.41.59.51 0 1.02-.2 1.41-.59l7.78-7.78 2.81-2.81c.8-.78.8-2.07 0-2.86zM5.41 20L4 18.59l7.72-7.72 1.47 1.35L5.41 20z\"/>\n",
              "  </svg>\n",
              "      </button>\n",
              "      \n",
              "  <style>\n",
              "    .colab-df-container {\n",
              "      display:flex;\n",
              "      flex-wrap:wrap;\n",
              "      gap: 12px;\n",
              "    }\n",
              "\n",
              "    .colab-df-convert {\n",
              "      background-color: #E8F0FE;\n",
              "      border: none;\n",
              "      border-radius: 50%;\n",
              "      cursor: pointer;\n",
              "      display: none;\n",
              "      fill: #1967D2;\n",
              "      height: 32px;\n",
              "      padding: 0 0 0 0;\n",
              "      width: 32px;\n",
              "    }\n",
              "\n",
              "    .colab-df-convert:hover {\n",
              "      background-color: #E2EBFA;\n",
              "      box-shadow: 0px 1px 2px rgba(60, 64, 67, 0.3), 0px 1px 3px 1px rgba(60, 64, 67, 0.15);\n",
              "      fill: #174EA6;\n",
              "    }\n",
              "\n",
              "    [theme=dark] .colab-df-convert {\n",
              "      background-color: #3B4455;\n",
              "      fill: #D2E3FC;\n",
              "    }\n",
              "\n",
              "    [theme=dark] .colab-df-convert:hover {\n",
              "      background-color: #434B5C;\n",
              "      box-shadow: 0px 1px 3px 1px rgba(0, 0, 0, 0.15);\n",
              "      filter: drop-shadow(0px 1px 2px rgba(0, 0, 0, 0.3));\n",
              "      fill: #FFFFFF;\n",
              "    }\n",
              "  </style>\n",
              "\n",
              "      <script>\n",
              "        const buttonEl =\n",
              "          document.querySelector('#df-5a38b52d-0ff0-4662-bfcb-f1634fe8a011 button.colab-df-convert');\n",
              "        buttonEl.style.display =\n",
              "          google.colab.kernel.accessAllowed ? 'block' : 'none';\n",
              "\n",
              "        async function convertToInteractive(key) {\n",
              "          const element = document.querySelector('#df-5a38b52d-0ff0-4662-bfcb-f1634fe8a011');\n",
              "          const dataTable =\n",
              "            await google.colab.kernel.invokeFunction('convertToInteractive',\n",
              "                                                     [key], {});\n",
              "          if (!dataTable) return;\n",
              "\n",
              "          const docLinkHtml = 'Like what you see? Visit the ' +\n",
              "            '<a target=\"_blank\" href=https://colab.research.google.com/notebooks/data_table.ipynb>data table notebook</a>'\n",
              "            + ' to learn more about interactive tables.';\n",
              "          element.innerHTML = '';\n",
              "          dataTable['output_type'] = 'display_data';\n",
              "          await google.colab.output.renderOutput(dataTable, element);\n",
              "          const docLink = document.createElement('div');\n",
              "          docLink.innerHTML = docLinkHtml;\n",
              "          element.appendChild(docLink);\n",
              "        }\n",
              "      </script>\n",
              "    </div>\n",
              "  </div>\n",
              "  "
            ]
          },
          "metadata": {},
          "execution_count": 6
        }
      ]
    },
    {
      "cell_type": "markdown",
      "source": [
        "Describing the data"
      ],
      "metadata": {
        "id": "-qa27FMWfDpj"
      }
    },
    {
      "cell_type": "code",
      "source": [
        "df.describe()"
      ],
      "metadata": {
        "colab": {
          "base_uri": "https://localhost:8080/",
          "height": 300
        },
        "id": "xO-M4_3zOcUa",
        "outputId": "4be0943c-81ca-4429-e59a-e5c1493be86f"
      },
      "execution_count": null,
      "outputs": [
        {
          "output_type": "execute_result",
          "data": {
            "text/plain": [
              "           Hours     Scores\n",
              "count  25.000000  25.000000\n",
              "mean    5.012000  51.480000\n",
              "std     2.525094  25.286887\n",
              "min     1.100000  17.000000\n",
              "25%     2.700000  30.000000\n",
              "50%     4.800000  47.000000\n",
              "75%     7.400000  75.000000\n",
              "max     9.200000  95.000000"
            ],
            "text/html": [
              "\n",
              "  <div id=\"df-3b12ff63-e1aa-4394-af18-8120d8ac633f\">\n",
              "    <div class=\"colab-df-container\">\n",
              "      <div>\n",
              "<style scoped>\n",
              "    .dataframe tbody tr th:only-of-type {\n",
              "        vertical-align: middle;\n",
              "    }\n",
              "\n",
              "    .dataframe tbody tr th {\n",
              "        vertical-align: top;\n",
              "    }\n",
              "\n",
              "    .dataframe thead th {\n",
              "        text-align: right;\n",
              "    }\n",
              "</style>\n",
              "<table border=\"1\" class=\"dataframe\">\n",
              "  <thead>\n",
              "    <tr style=\"text-align: right;\">\n",
              "      <th></th>\n",
              "      <th>Hours</th>\n",
              "      <th>Scores</th>\n",
              "    </tr>\n",
              "  </thead>\n",
              "  <tbody>\n",
              "    <tr>\n",
              "      <th>count</th>\n",
              "      <td>25.000000</td>\n",
              "      <td>25.000000</td>\n",
              "    </tr>\n",
              "    <tr>\n",
              "      <th>mean</th>\n",
              "      <td>5.012000</td>\n",
              "      <td>51.480000</td>\n",
              "    </tr>\n",
              "    <tr>\n",
              "      <th>std</th>\n",
              "      <td>2.525094</td>\n",
              "      <td>25.286887</td>\n",
              "    </tr>\n",
              "    <tr>\n",
              "      <th>min</th>\n",
              "      <td>1.100000</td>\n",
              "      <td>17.000000</td>\n",
              "    </tr>\n",
              "    <tr>\n",
              "      <th>25%</th>\n",
              "      <td>2.700000</td>\n",
              "      <td>30.000000</td>\n",
              "    </tr>\n",
              "    <tr>\n",
              "      <th>50%</th>\n",
              "      <td>4.800000</td>\n",
              "      <td>47.000000</td>\n",
              "    </tr>\n",
              "    <tr>\n",
              "      <th>75%</th>\n",
              "      <td>7.400000</td>\n",
              "      <td>75.000000</td>\n",
              "    </tr>\n",
              "    <tr>\n",
              "      <th>max</th>\n",
              "      <td>9.200000</td>\n",
              "      <td>95.000000</td>\n",
              "    </tr>\n",
              "  </tbody>\n",
              "</table>\n",
              "</div>\n",
              "      <button class=\"colab-df-convert\" onclick=\"convertToInteractive('df-3b12ff63-e1aa-4394-af18-8120d8ac633f')\"\n",
              "              title=\"Convert this dataframe to an interactive table.\"\n",
              "              style=\"display:none;\">\n",
              "        \n",
              "  <svg xmlns=\"http://www.w3.org/2000/svg\" height=\"24px\"viewBox=\"0 0 24 24\"\n",
              "       width=\"24px\">\n",
              "    <path d=\"M0 0h24v24H0V0z\" fill=\"none\"/>\n",
              "    <path d=\"M18.56 5.44l.94 2.06.94-2.06 2.06-.94-2.06-.94-.94-2.06-.94 2.06-2.06.94zm-11 1L8.5 8.5l.94-2.06 2.06-.94-2.06-.94L8.5 2.5l-.94 2.06-2.06.94zm10 10l.94 2.06.94-2.06 2.06-.94-2.06-.94-.94-2.06-.94 2.06-2.06.94z\"/><path d=\"M17.41 7.96l-1.37-1.37c-.4-.4-.92-.59-1.43-.59-.52 0-1.04.2-1.43.59L10.3 9.45l-7.72 7.72c-.78.78-.78 2.05 0 2.83L4 21.41c.39.39.9.59 1.41.59.51 0 1.02-.2 1.41-.59l7.78-7.78 2.81-2.81c.8-.78.8-2.07 0-2.86zM5.41 20L4 18.59l7.72-7.72 1.47 1.35L5.41 20z\"/>\n",
              "  </svg>\n",
              "      </button>\n",
              "      \n",
              "  <style>\n",
              "    .colab-df-container {\n",
              "      display:flex;\n",
              "      flex-wrap:wrap;\n",
              "      gap: 12px;\n",
              "    }\n",
              "\n",
              "    .colab-df-convert {\n",
              "      background-color: #E8F0FE;\n",
              "      border: none;\n",
              "      border-radius: 50%;\n",
              "      cursor: pointer;\n",
              "      display: none;\n",
              "      fill: #1967D2;\n",
              "      height: 32px;\n",
              "      padding: 0 0 0 0;\n",
              "      width: 32px;\n",
              "    }\n",
              "\n",
              "    .colab-df-convert:hover {\n",
              "      background-color: #E2EBFA;\n",
              "      box-shadow: 0px 1px 2px rgba(60, 64, 67, 0.3), 0px 1px 3px 1px rgba(60, 64, 67, 0.15);\n",
              "      fill: #174EA6;\n",
              "    }\n",
              "\n",
              "    [theme=dark] .colab-df-convert {\n",
              "      background-color: #3B4455;\n",
              "      fill: #D2E3FC;\n",
              "    }\n",
              "\n",
              "    [theme=dark] .colab-df-convert:hover {\n",
              "      background-color: #434B5C;\n",
              "      box-shadow: 0px 1px 3px 1px rgba(0, 0, 0, 0.15);\n",
              "      filter: drop-shadow(0px 1px 2px rgba(0, 0, 0, 0.3));\n",
              "      fill: #FFFFFF;\n",
              "    }\n",
              "  </style>\n",
              "\n",
              "      <script>\n",
              "        const buttonEl =\n",
              "          document.querySelector('#df-3b12ff63-e1aa-4394-af18-8120d8ac633f button.colab-df-convert');\n",
              "        buttonEl.style.display =\n",
              "          google.colab.kernel.accessAllowed ? 'block' : 'none';\n",
              "\n",
              "        async function convertToInteractive(key) {\n",
              "          const element = document.querySelector('#df-3b12ff63-e1aa-4394-af18-8120d8ac633f');\n",
              "          const dataTable =\n",
              "            await google.colab.kernel.invokeFunction('convertToInteractive',\n",
              "                                                     [key], {});\n",
              "          if (!dataTable) return;\n",
              "\n",
              "          const docLinkHtml = 'Like what you see? Visit the ' +\n",
              "            '<a target=\"_blank\" href=https://colab.research.google.com/notebooks/data_table.ipynb>data table notebook</a>'\n",
              "            + ' to learn more about interactive tables.';\n",
              "          element.innerHTML = '';\n",
              "          dataTable['output_type'] = 'display_data';\n",
              "          await google.colab.output.renderOutput(dataTable, element);\n",
              "          const docLink = document.createElement('div');\n",
              "          docLink.innerHTML = docLinkHtml;\n",
              "          element.appendChild(docLink);\n",
              "        }\n",
              "      </script>\n",
              "    </div>\n",
              "  </div>\n",
              "  "
            ]
          },
          "metadata": {},
          "execution_count": 7
        }
      ]
    },
    {
      "cell_type": "markdown",
      "source": [
        "Getting the data"
      ],
      "metadata": {
        "id": "eC_Z545lfKlG"
      }
    },
    {
      "cell_type": "code",
      "source": [
        "data.head()"
      ],
      "metadata": {
        "colab": {
          "base_uri": "https://localhost:8080/",
          "height": 206
        },
        "id": "aWYmBCF6OhQi",
        "outputId": "6f4b4fe0-3c44-4fc2-d26b-003a6949cf89"
      },
      "execution_count": null,
      "outputs": [
        {
          "output_type": "execute_result",
          "data": {
            "text/plain": [
              "   Hours  Scores\n",
              "0    2.5      21\n",
              "1    5.1      47\n",
              "2    3.2      27\n",
              "3    8.5      75\n",
              "4    3.5      30"
            ],
            "text/html": [
              "\n",
              "  <div id=\"df-efd267b4-bdbc-4000-9df5-3b62c09213d9\">\n",
              "    <div class=\"colab-df-container\">\n",
              "      <div>\n",
              "<style scoped>\n",
              "    .dataframe tbody tr th:only-of-type {\n",
              "        vertical-align: middle;\n",
              "    }\n",
              "\n",
              "    .dataframe tbody tr th {\n",
              "        vertical-align: top;\n",
              "    }\n",
              "\n",
              "    .dataframe thead th {\n",
              "        text-align: right;\n",
              "    }\n",
              "</style>\n",
              "<table border=\"1\" class=\"dataframe\">\n",
              "  <thead>\n",
              "    <tr style=\"text-align: right;\">\n",
              "      <th></th>\n",
              "      <th>Hours</th>\n",
              "      <th>Scores</th>\n",
              "    </tr>\n",
              "  </thead>\n",
              "  <tbody>\n",
              "    <tr>\n",
              "      <th>0</th>\n",
              "      <td>2.5</td>\n",
              "      <td>21</td>\n",
              "    </tr>\n",
              "    <tr>\n",
              "      <th>1</th>\n",
              "      <td>5.1</td>\n",
              "      <td>47</td>\n",
              "    </tr>\n",
              "    <tr>\n",
              "      <th>2</th>\n",
              "      <td>3.2</td>\n",
              "      <td>27</td>\n",
              "    </tr>\n",
              "    <tr>\n",
              "      <th>3</th>\n",
              "      <td>8.5</td>\n",
              "      <td>75</td>\n",
              "    </tr>\n",
              "    <tr>\n",
              "      <th>4</th>\n",
              "      <td>3.5</td>\n",
              "      <td>30</td>\n",
              "    </tr>\n",
              "  </tbody>\n",
              "</table>\n",
              "</div>\n",
              "      <button class=\"colab-df-convert\" onclick=\"convertToInteractive('df-efd267b4-bdbc-4000-9df5-3b62c09213d9')\"\n",
              "              title=\"Convert this dataframe to an interactive table.\"\n",
              "              style=\"display:none;\">\n",
              "        \n",
              "  <svg xmlns=\"http://www.w3.org/2000/svg\" height=\"24px\"viewBox=\"0 0 24 24\"\n",
              "       width=\"24px\">\n",
              "    <path d=\"M0 0h24v24H0V0z\" fill=\"none\"/>\n",
              "    <path d=\"M18.56 5.44l.94 2.06.94-2.06 2.06-.94-2.06-.94-.94-2.06-.94 2.06-2.06.94zm-11 1L8.5 8.5l.94-2.06 2.06-.94-2.06-.94L8.5 2.5l-.94 2.06-2.06.94zm10 10l.94 2.06.94-2.06 2.06-.94-2.06-.94-.94-2.06-.94 2.06-2.06.94z\"/><path d=\"M17.41 7.96l-1.37-1.37c-.4-.4-.92-.59-1.43-.59-.52 0-1.04.2-1.43.59L10.3 9.45l-7.72 7.72c-.78.78-.78 2.05 0 2.83L4 21.41c.39.39.9.59 1.41.59.51 0 1.02-.2 1.41-.59l7.78-7.78 2.81-2.81c.8-.78.8-2.07 0-2.86zM5.41 20L4 18.59l7.72-7.72 1.47 1.35L5.41 20z\"/>\n",
              "  </svg>\n",
              "      </button>\n",
              "      \n",
              "  <style>\n",
              "    .colab-df-container {\n",
              "      display:flex;\n",
              "      flex-wrap:wrap;\n",
              "      gap: 12px;\n",
              "    }\n",
              "\n",
              "    .colab-df-convert {\n",
              "      background-color: #E8F0FE;\n",
              "      border: none;\n",
              "      border-radius: 50%;\n",
              "      cursor: pointer;\n",
              "      display: none;\n",
              "      fill: #1967D2;\n",
              "      height: 32px;\n",
              "      padding: 0 0 0 0;\n",
              "      width: 32px;\n",
              "    }\n",
              "\n",
              "    .colab-df-convert:hover {\n",
              "      background-color: #E2EBFA;\n",
              "      box-shadow: 0px 1px 2px rgba(60, 64, 67, 0.3), 0px 1px 3px 1px rgba(60, 64, 67, 0.15);\n",
              "      fill: #174EA6;\n",
              "    }\n",
              "\n",
              "    [theme=dark] .colab-df-convert {\n",
              "      background-color: #3B4455;\n",
              "      fill: #D2E3FC;\n",
              "    }\n",
              "\n",
              "    [theme=dark] .colab-df-convert:hover {\n",
              "      background-color: #434B5C;\n",
              "      box-shadow: 0px 1px 3px 1px rgba(0, 0, 0, 0.15);\n",
              "      filter: drop-shadow(0px 1px 2px rgba(0, 0, 0, 0.3));\n",
              "      fill: #FFFFFF;\n",
              "    }\n",
              "  </style>\n",
              "\n",
              "      <script>\n",
              "        const buttonEl =\n",
              "          document.querySelector('#df-efd267b4-bdbc-4000-9df5-3b62c09213d9 button.colab-df-convert');\n",
              "        buttonEl.style.display =\n",
              "          google.colab.kernel.accessAllowed ? 'block' : 'none';\n",
              "\n",
              "        async function convertToInteractive(key) {\n",
              "          const element = document.querySelector('#df-efd267b4-bdbc-4000-9df5-3b62c09213d9');\n",
              "          const dataTable =\n",
              "            await google.colab.kernel.invokeFunction('convertToInteractive',\n",
              "                                                     [key], {});\n",
              "          if (!dataTable) return;\n",
              "\n",
              "          const docLinkHtml = 'Like what you see? Visit the ' +\n",
              "            '<a target=\"_blank\" href=https://colab.research.google.com/notebooks/data_table.ipynb>data table notebook</a>'\n",
              "            + ' to learn more about interactive tables.';\n",
              "          element.innerHTML = '';\n",
              "          dataTable['output_type'] = 'display_data';\n",
              "          await google.colab.output.renderOutput(dataTable, element);\n",
              "          const docLink = document.createElement('div');\n",
              "          docLink.innerHTML = docLinkHtml;\n",
              "          element.appendChild(docLink);\n",
              "        }\n",
              "      </script>\n",
              "    </div>\n",
              "  </div>\n",
              "  "
            ]
          },
          "metadata": {},
          "execution_count": 8
        }
      ]
    },
    {
      "cell_type": "code",
      "source": [
        "df.tail()"
      ],
      "metadata": {
        "colab": {
          "base_uri": "https://localhost:8080/",
          "height": 206
        },
        "id": "CcgtyjSqOmAH",
        "outputId": "2a356b5f-6df1-48d5-c8bd-ec560e09a875"
      },
      "execution_count": null,
      "outputs": [
        {
          "output_type": "execute_result",
          "data": {
            "text/plain": [
              "    Hours  Scores\n",
              "20    2.7      30\n",
              "21    4.8      54\n",
              "22    3.8      35\n",
              "23    6.9      76\n",
              "24    7.8      86"
            ],
            "text/html": [
              "\n",
              "  <div id=\"df-5b7dacb5-2a04-4aa7-a7c8-8a6b7661813a\">\n",
              "    <div class=\"colab-df-container\">\n",
              "      <div>\n",
              "<style scoped>\n",
              "    .dataframe tbody tr th:only-of-type {\n",
              "        vertical-align: middle;\n",
              "    }\n",
              "\n",
              "    .dataframe tbody tr th {\n",
              "        vertical-align: top;\n",
              "    }\n",
              "\n",
              "    .dataframe thead th {\n",
              "        text-align: right;\n",
              "    }\n",
              "</style>\n",
              "<table border=\"1\" class=\"dataframe\">\n",
              "  <thead>\n",
              "    <tr style=\"text-align: right;\">\n",
              "      <th></th>\n",
              "      <th>Hours</th>\n",
              "      <th>Scores</th>\n",
              "    </tr>\n",
              "  </thead>\n",
              "  <tbody>\n",
              "    <tr>\n",
              "      <th>20</th>\n",
              "      <td>2.7</td>\n",
              "      <td>30</td>\n",
              "    </tr>\n",
              "    <tr>\n",
              "      <th>21</th>\n",
              "      <td>4.8</td>\n",
              "      <td>54</td>\n",
              "    </tr>\n",
              "    <tr>\n",
              "      <th>22</th>\n",
              "      <td>3.8</td>\n",
              "      <td>35</td>\n",
              "    </tr>\n",
              "    <tr>\n",
              "      <th>23</th>\n",
              "      <td>6.9</td>\n",
              "      <td>76</td>\n",
              "    </tr>\n",
              "    <tr>\n",
              "      <th>24</th>\n",
              "      <td>7.8</td>\n",
              "      <td>86</td>\n",
              "    </tr>\n",
              "  </tbody>\n",
              "</table>\n",
              "</div>\n",
              "      <button class=\"colab-df-convert\" onclick=\"convertToInteractive('df-5b7dacb5-2a04-4aa7-a7c8-8a6b7661813a')\"\n",
              "              title=\"Convert this dataframe to an interactive table.\"\n",
              "              style=\"display:none;\">\n",
              "        \n",
              "  <svg xmlns=\"http://www.w3.org/2000/svg\" height=\"24px\"viewBox=\"0 0 24 24\"\n",
              "       width=\"24px\">\n",
              "    <path d=\"M0 0h24v24H0V0z\" fill=\"none\"/>\n",
              "    <path d=\"M18.56 5.44l.94 2.06.94-2.06 2.06-.94-2.06-.94-.94-2.06-.94 2.06-2.06.94zm-11 1L8.5 8.5l.94-2.06 2.06-.94-2.06-.94L8.5 2.5l-.94 2.06-2.06.94zm10 10l.94 2.06.94-2.06 2.06-.94-2.06-.94-.94-2.06-.94 2.06-2.06.94z\"/><path d=\"M17.41 7.96l-1.37-1.37c-.4-.4-.92-.59-1.43-.59-.52 0-1.04.2-1.43.59L10.3 9.45l-7.72 7.72c-.78.78-.78 2.05 0 2.83L4 21.41c.39.39.9.59 1.41.59.51 0 1.02-.2 1.41-.59l7.78-7.78 2.81-2.81c.8-.78.8-2.07 0-2.86zM5.41 20L4 18.59l7.72-7.72 1.47 1.35L5.41 20z\"/>\n",
              "  </svg>\n",
              "      </button>\n",
              "      \n",
              "  <style>\n",
              "    .colab-df-container {\n",
              "      display:flex;\n",
              "      flex-wrap:wrap;\n",
              "      gap: 12px;\n",
              "    }\n",
              "\n",
              "    .colab-df-convert {\n",
              "      background-color: #E8F0FE;\n",
              "      border: none;\n",
              "      border-radius: 50%;\n",
              "      cursor: pointer;\n",
              "      display: none;\n",
              "      fill: #1967D2;\n",
              "      height: 32px;\n",
              "      padding: 0 0 0 0;\n",
              "      width: 32px;\n",
              "    }\n",
              "\n",
              "    .colab-df-convert:hover {\n",
              "      background-color: #E2EBFA;\n",
              "      box-shadow: 0px 1px 2px rgba(60, 64, 67, 0.3), 0px 1px 3px 1px rgba(60, 64, 67, 0.15);\n",
              "      fill: #174EA6;\n",
              "    }\n",
              "\n",
              "    [theme=dark] .colab-df-convert {\n",
              "      background-color: #3B4455;\n",
              "      fill: #D2E3FC;\n",
              "    }\n",
              "\n",
              "    [theme=dark] .colab-df-convert:hover {\n",
              "      background-color: #434B5C;\n",
              "      box-shadow: 0px 1px 3px 1px rgba(0, 0, 0, 0.15);\n",
              "      filter: drop-shadow(0px 1px 2px rgba(0, 0, 0, 0.3));\n",
              "      fill: #FFFFFF;\n",
              "    }\n",
              "  </style>\n",
              "\n",
              "      <script>\n",
              "        const buttonEl =\n",
              "          document.querySelector('#df-5b7dacb5-2a04-4aa7-a7c8-8a6b7661813a button.colab-df-convert');\n",
              "        buttonEl.style.display =\n",
              "          google.colab.kernel.accessAllowed ? 'block' : 'none';\n",
              "\n",
              "        async function convertToInteractive(key) {\n",
              "          const element = document.querySelector('#df-5b7dacb5-2a04-4aa7-a7c8-8a6b7661813a');\n",
              "          const dataTable =\n",
              "            await google.colab.kernel.invokeFunction('convertToInteractive',\n",
              "                                                     [key], {});\n",
              "          if (!dataTable) return;\n",
              "\n",
              "          const docLinkHtml = 'Like what you see? Visit the ' +\n",
              "            '<a target=\"_blank\" href=https://colab.research.google.com/notebooks/data_table.ipynb>data table notebook</a>'\n",
              "            + ' to learn more about interactive tables.';\n",
              "          element.innerHTML = '';\n",
              "          dataTable['output_type'] = 'display_data';\n",
              "          await google.colab.output.renderOutput(dataTable, element);\n",
              "          const docLink = document.createElement('div');\n",
              "          docLink.innerHTML = docLinkHtml;\n",
              "          element.appendChild(docLink);\n",
              "        }\n",
              "      </script>\n",
              "    </div>\n",
              "  </div>\n",
              "  "
            ]
          },
          "metadata": {},
          "execution_count": 9
        }
      ]
    },
    {
      "cell_type": "code",
      "source": [
        "data.info()"
      ],
      "metadata": {
        "colab": {
          "base_uri": "https://localhost:8080/"
        },
        "id": "VCHbkPbROoyX",
        "outputId": "85b63afd-00d4-4ab0-e057-aa5f8bcfd0a6"
      },
      "execution_count": null,
      "outputs": [
        {
          "output_type": "stream",
          "name": "stdout",
          "text": [
            "<class 'pandas.core.frame.DataFrame'>\n",
            "RangeIndex: 25 entries, 0 to 24\n",
            "Data columns (total 2 columns):\n",
            " #   Column  Non-Null Count  Dtype  \n",
            "---  ------  --------------  -----  \n",
            " 0   Hours   25 non-null     float64\n",
            " 1   Scores  25 non-null     int64  \n",
            "dtypes: float64(1), int64(1)\n",
            "memory usage: 528.0 bytes\n"
          ]
        }
      ]
    },
    {
      "cell_type": "markdown",
      "source": [
        "To check for any null data"
      ],
      "metadata": {
        "id": "eH6Jt2sXfQSj"
      }
    },
    {
      "cell_type": "code",
      "source": [
        "data.isnull == True"
      ],
      "metadata": {
        "colab": {
          "base_uri": "https://localhost:8080/"
        },
        "id": "h6BVJvLGOuRD",
        "outputId": "3fd1fc8e-3a02-4df2-f7f4-e327c77e1e34"
      },
      "execution_count": null,
      "outputs": [
        {
          "output_type": "execute_result",
          "data": {
            "text/plain": [
              "False"
            ]
          },
          "metadata": {},
          "execution_count": 11
        }
      ]
    },
    {
      "cell_type": "markdown",
      "source": [
        "**Visualising the data**"
      ],
      "metadata": {
        "id": "-3Oy4cBTfYPl"
      }
    },
    {
      "cell_type": "code",
      "source": [
        "#imported seaborn library to plot the graphs\n",
        "import seaborn as sns"
      ],
      "metadata": {
        "id": "MJ_d5JZIOyPB"
      },
      "execution_count": null,
      "outputs": []
    },
    {
      "cell_type": "code",
      "source": [
        "plt.boxplot(data)"
      ],
      "metadata": {
        "colab": {
          "base_uri": "https://localhost:8080/",
          "height": 1000
        },
        "id": "owTuAT_cO3EW",
        "outputId": "cf4d5e7f-856c-4f9a-a18c-7328386a336f"
      },
      "execution_count": null,
      "outputs": [
        {
          "output_type": "execute_result",
          "data": {
            "text/plain": [
              "{'whiskers': [<matplotlib.lines.Line2D at 0x7f2a2fcd6ed0>,\n",
              "  <matplotlib.lines.Line2D at 0x7f2a2fcde450>,\n",
              "  <matplotlib.lines.Line2D at 0x7f2a2fcea610>,\n",
              "  <matplotlib.lines.Line2D at 0x7f2a2fceab50>,\n",
              "  <matplotlib.lines.Line2D at 0x7f2a2fcffb10>,\n",
              "  <matplotlib.lines.Line2D at 0x7f2a2fd08110>,\n",
              "  <matplotlib.lines.Line2D at 0x7f2a2fc98110>,\n",
              "  <matplotlib.lines.Line2D at 0x7f2a2fc98690>,\n",
              "  <matplotlib.lines.Line2D at 0x7f2a2fca96d0>,\n",
              "  <matplotlib.lines.Line2D at 0x7f2a2fca9c10>,\n",
              "  <matplotlib.lines.Line2D at 0x7f2a2fcbcc10>,\n",
              "  <matplotlib.lines.Line2D at 0x7f2a2fcc3190>,\n",
              "  <matplotlib.lines.Line2D at 0x7f2a2fc55190>,\n",
              "  <matplotlib.lines.Line2D at 0x7f2a2fc55710>,\n",
              "  <matplotlib.lines.Line2D at 0x7f2a2fc646d0>,\n",
              "  <matplotlib.lines.Line2D at 0x7f2a2fc64c50>,\n",
              "  <matplotlib.lines.Line2D at 0x7f2a2fc77b90>,\n",
              "  <matplotlib.lines.Line2D at 0x7f2a2fc7e150>,\n",
              "  <matplotlib.lines.Line2D at 0x7f2a2fc0e090>,\n",
              "  <matplotlib.lines.Line2D at 0x7f2a2fc0e610>,\n",
              "  <matplotlib.lines.Line2D at 0x7f2a2fc1f5d0>,\n",
              "  <matplotlib.lines.Line2D at 0x7f2a2fc1fb50>,\n",
              "  <matplotlib.lines.Line2D at 0x7f2a2fc31b10>,\n",
              "  <matplotlib.lines.Line2D at 0x7f2a2fc390d0>,\n",
              "  <matplotlib.lines.Line2D at 0x7f2a2fc4a090>,\n",
              "  <matplotlib.lines.Line2D at 0x7f2a2fc4a610>,\n",
              "  <matplotlib.lines.Line2D at 0x7f2a2fbda5d0>,\n",
              "  <matplotlib.lines.Line2D at 0x7f2a2fbdab50>,\n",
              "  <matplotlib.lines.Line2D at 0x7f2a2fbebb10>,\n",
              "  <matplotlib.lines.Line2D at 0x7f2a2fbf3090>,\n",
              "  <matplotlib.lines.Line2D at 0x7f2a2fc04090>,\n",
              "  <matplotlib.lines.Line2D at 0x7f2a2fc04610>,\n",
              "  <matplotlib.lines.Line2D at 0x7f2a2fb955d0>,\n",
              "  <matplotlib.lines.Line2D at 0x7f2a2fb95b50>,\n",
              "  <matplotlib.lines.Line2D at 0x7f2a2fba7b10>,\n",
              "  <matplotlib.lines.Line2D at 0x7f2a2fbaf0d0>,\n",
              "  <matplotlib.lines.Line2D at 0x7f2a2fbc0090>,\n",
              "  <matplotlib.lines.Line2D at 0x7f2a2fbc0610>,\n",
              "  <matplotlib.lines.Line2D at 0x7f2a2fb525d0>,\n",
              "  <matplotlib.lines.Line2D at 0x7f2a2fb52b50>,\n",
              "  <matplotlib.lines.Line2D at 0x7f2a2fb61b10>,\n",
              "  <matplotlib.lines.Line2D at 0x7f2a2fb6a0d0>,\n",
              "  <matplotlib.lines.Line2D at 0x7f2a2fb7a090>,\n",
              "  <matplotlib.lines.Line2D at 0x7f2a2fb7a610>,\n",
              "  <matplotlib.lines.Line2D at 0x7f2a2fb0b5d0>,\n",
              "  <matplotlib.lines.Line2D at 0x7f2a2fb0bb50>,\n",
              "  <matplotlib.lines.Line2D at 0x7f2a2fb1db10>,\n",
              "  <matplotlib.lines.Line2D at 0x7f2a2fb250d0>,\n",
              "  <matplotlib.lines.Line2D at 0x7f2a2fb36090>,\n",
              "  <matplotlib.lines.Line2D at 0x7f2a2fb36610>],\n",
              " 'caps': [<matplotlib.lines.Line2D at 0x7f2a2fcde990>,\n",
              "  <matplotlib.lines.Line2D at 0x7f2a2fcdef10>,\n",
              "  <matplotlib.lines.Line2D at 0x7f2a2fcf6090>,\n",
              "  <matplotlib.lines.Line2D at 0x7f2a2fcf6610>,\n",
              "  <matplotlib.lines.Line2D at 0x7f2a2fd08650>,\n",
              "  <matplotlib.lines.Line2D at 0x7f2a2fd08bd0>,\n",
              "  <matplotlib.lines.Line2D at 0x7f2a2fc98b90>,\n",
              "  <matplotlib.lines.Line2D at 0x7f2a2fca2150>,\n",
              "  <matplotlib.lines.Line2D at 0x7f2a2fcb2190>,\n",
              "  <matplotlib.lines.Line2D at 0x7f2a2fcb2690>,\n",
              "  <matplotlib.lines.Line2D at 0x7f2a2fcc3710>,\n",
              "  <matplotlib.lines.Line2D at 0x7f2a2fcc3c50>,\n",
              "  <matplotlib.lines.Line2D at 0x7f2a2fc55c10>,\n",
              "  <matplotlib.lines.Line2D at 0x7f2a2fc5d1d0>,\n",
              "  <matplotlib.lines.Line2D at 0x7f2a2fc6e1d0>,\n",
              "  <matplotlib.lines.Line2D at 0x7f2a2fc6e710>,\n",
              "  <matplotlib.lines.Line2D at 0x7f2a2fc7e690>,\n",
              "  <matplotlib.lines.Line2D at 0x7f2a2fc7ebd0>,\n",
              "  <matplotlib.lines.Line2D at 0x7f2a2fc0eb50>,\n",
              "  <matplotlib.lines.Line2D at 0x7f2a2fc160d0>,\n",
              "  <matplotlib.lines.Line2D at 0x7f2a2fc280d0>,\n",
              "  <matplotlib.lines.Line2D at 0x7f2a2fc28610>,\n",
              "  <matplotlib.lines.Line2D at 0x7f2a2fc39610>,\n",
              "  <matplotlib.lines.Line2D at 0x7f2a2fc39b50>,\n",
              "  <matplotlib.lines.Line2D at 0x7f2a2fc4ab50>,\n",
              "  <matplotlib.lines.Line2D at 0x7f2a2fbd20d0>,\n",
              "  <matplotlib.lines.Line2D at 0x7f2a2fbe20d0>,\n",
              "  <matplotlib.lines.Line2D at 0x7f2a2fbe2610>,\n",
              "  <matplotlib.lines.Line2D at 0x7f2a2fbf3610>,\n",
              "  <matplotlib.lines.Line2D at 0x7f2a2fbf3b50>,\n",
              "  <matplotlib.lines.Line2D at 0x7f2a2fc04b10>,\n",
              "  <matplotlib.lines.Line2D at 0x7f2a2fb8c0d0>,\n",
              "  <matplotlib.lines.Line2D at 0x7f2a2fb9d0d0>,\n",
              "  <matplotlib.lines.Line2D at 0x7f2a2fb9d610>,\n",
              "  <matplotlib.lines.Line2D at 0x7f2a2fbaf610>,\n",
              "  <matplotlib.lines.Line2D at 0x7f2a2fbafb50>,\n",
              "  <matplotlib.lines.Line2D at 0x7f2a2fbc0b50>,\n",
              "  <matplotlib.lines.Line2D at 0x7f2a2fbc80d0>,\n",
              "  <matplotlib.lines.Line2D at 0x7f2a2fb590d0>,\n",
              "  <matplotlib.lines.Line2D at 0x7f2a2fb59610>,\n",
              "  <matplotlib.lines.Line2D at 0x7f2a2fb6a610>,\n",
              "  <matplotlib.lines.Line2D at 0x7f2a2fb6ab50>,\n",
              "  <matplotlib.lines.Line2D at 0x7f2a2fb7ab50>,\n",
              "  <matplotlib.lines.Line2D at 0x7f2a2fb830d0>,\n",
              "  <matplotlib.lines.Line2D at 0x7f2a2fb120d0>,\n",
              "  <matplotlib.lines.Line2D at 0x7f2a2fb12610>,\n",
              "  <matplotlib.lines.Line2D at 0x7f2a2fb25610>,\n",
              "  <matplotlib.lines.Line2D at 0x7f2a2fb25b50>,\n",
              "  <matplotlib.lines.Line2D at 0x7f2a2fb36b50>,\n",
              "  <matplotlib.lines.Line2D at 0x7f2a2fb3e0d0>],\n",
              " 'boxes': [<matplotlib.lines.Line2D at 0x7f2a2fcd6990>,\n",
              "  <matplotlib.lines.Line2D at 0x7f2a2fcea050>,\n",
              "  <matplotlib.lines.Line2D at 0x7f2a2fcff590>,\n",
              "  <matplotlib.lines.Line2D at 0x7f2a2fc90b50>,\n",
              "  <matplotlib.lines.Line2D at 0x7f2a2fca9110>,\n",
              "  <matplotlib.lines.Line2D at 0x7f2a2fcbc690>,\n",
              "  <matplotlib.lines.Line2D at 0x7f2a2fc4cbd0>,\n",
              "  <matplotlib.lines.Line2D at 0x7f2a2fc64150>,\n",
              "  <matplotlib.lines.Line2D at 0x7f2a2fc77650>,\n",
              "  <matplotlib.lines.Line2D at 0x7f2a2fc88ad0>,\n",
              "  <matplotlib.lines.Line2D at 0x7f2a2fc1f050>,\n",
              "  <matplotlib.lines.Line2D at 0x7f2a2fc31590>,\n",
              "  <matplotlib.lines.Line2D at 0x7f2a2fc41ad0>,\n",
              "  <matplotlib.lines.Line2D at 0x7f2a2fbda050>,\n",
              "  <matplotlib.lines.Line2D at 0x7f2a2fbeb590>,\n",
              "  <matplotlib.lines.Line2D at 0x7f2a2fbfcad0>,\n",
              "  <matplotlib.lines.Line2D at 0x7f2a2fb95050>,\n",
              "  <matplotlib.lines.Line2D at 0x7f2a2fba7590>,\n",
              "  <matplotlib.lines.Line2D at 0x7f2a2fbb8ad0>,\n",
              "  <matplotlib.lines.Line2D at 0x7f2a2fb52050>,\n",
              "  <matplotlib.lines.Line2D at 0x7f2a2fb61590>,\n",
              "  <matplotlib.lines.Line2D at 0x7f2a2fb71ad0>,\n",
              "  <matplotlib.lines.Line2D at 0x7f2a2fb0b050>,\n",
              "  <matplotlib.lines.Line2D at 0x7f2a2fb1d590>,\n",
              "  <matplotlib.lines.Line2D at 0x7f2a2fb2dad0>],\n",
              " 'medians': [<matplotlib.lines.Line2D at 0x7f2a2fce54d0>,\n",
              "  <matplotlib.lines.Line2D at 0x7f2a2fcf6b50>,\n",
              "  <matplotlib.lines.Line2D at 0x7f2a2fc90150>,\n",
              "  <matplotlib.lines.Line2D at 0x7f2a2fca2690>,\n",
              "  <matplotlib.lines.Line2D at 0x7f2a2fcb2bd0>,\n",
              "  <matplotlib.lines.Line2D at 0x7f2a2fc4c1d0>,\n",
              "  <matplotlib.lines.Line2D at 0x7f2a2fc5d710>,\n",
              "  <matplotlib.lines.Line2D at 0x7f2a2fc6ec50>,\n",
              "  <matplotlib.lines.Line2D at 0x7f2a2fc88150>,\n",
              "  <matplotlib.lines.Line2D at 0x7f2a2fc16610>,\n",
              "  <matplotlib.lines.Line2D at 0x7f2a2fc28b50>,\n",
              "  <matplotlib.lines.Line2D at 0x7f2a2fc410d0>,\n",
              "  <matplotlib.lines.Line2D at 0x7f2a2fbd2610>,\n",
              "  <matplotlib.lines.Line2D at 0x7f2a2fbe2b50>,\n",
              "  <matplotlib.lines.Line2D at 0x7f2a2fbfc0d0>,\n",
              "  <matplotlib.lines.Line2D at 0x7f2a2fb8c610>,\n",
              "  <matplotlib.lines.Line2D at 0x7f2a2fb9db50>,\n",
              "  <matplotlib.lines.Line2D at 0x7f2a2fbb80d0>,\n",
              "  <matplotlib.lines.Line2D at 0x7f2a2fbc8610>,\n",
              "  <matplotlib.lines.Line2D at 0x7f2a2fb59b50>,\n",
              "  <matplotlib.lines.Line2D at 0x7f2a2fb710d0>,\n",
              "  <matplotlib.lines.Line2D at 0x7f2a2fb83610>,\n",
              "  <matplotlib.lines.Line2D at 0x7f2a2fb12b50>,\n",
              "  <matplotlib.lines.Line2D at 0x7f2a2fb2d0d0>,\n",
              "  <matplotlib.lines.Line2D at 0x7f2a2fb3e610>],\n",
              " 'fliers': [<matplotlib.lines.Line2D at 0x7f2a2fce5a10>,\n",
              "  <matplotlib.lines.Line2D at 0x7f2a2fcff0d0>,\n",
              "  <matplotlib.lines.Line2D at 0x7f2a2fc90690>,\n",
              "  <matplotlib.lines.Line2D at 0x7f2a2fca2bd0>,\n",
              "  <matplotlib.lines.Line2D at 0x7f2a2fcbc190>,\n",
              "  <matplotlib.lines.Line2D at 0x7f2a2fc4c710>,\n",
              "  <matplotlib.lines.Line2D at 0x7f2a2fc5dc50>,\n",
              "  <matplotlib.lines.Line2D at 0x7f2a2fc771d0>,\n",
              "  <matplotlib.lines.Line2D at 0x7f2a2fc88650>,\n",
              "  <matplotlib.lines.Line2D at 0x7f2a2fc16b50>,\n",
              "  <matplotlib.lines.Line2D at 0x7f2a2fc310d0>,\n",
              "  <matplotlib.lines.Line2D at 0x7f2a2fc41610>,\n",
              "  <matplotlib.lines.Line2D at 0x7f2a2fbd2b50>,\n",
              "  <matplotlib.lines.Line2D at 0x7f2a2fbeb0d0>,\n",
              "  <matplotlib.lines.Line2D at 0x7f2a2fbfc610>,\n",
              "  <matplotlib.lines.Line2D at 0x7f2a2fb8cb50>,\n",
              "  <matplotlib.lines.Line2D at 0x7f2a2fba70d0>,\n",
              "  <matplotlib.lines.Line2D at 0x7f2a2fbb8610>,\n",
              "  <matplotlib.lines.Line2D at 0x7f2a2fbc8b50>,\n",
              "  <matplotlib.lines.Line2D at 0x7f2a2fb610d0>,\n",
              "  <matplotlib.lines.Line2D at 0x7f2a2fb71610>,\n",
              "  <matplotlib.lines.Line2D at 0x7f2a2fb83b50>,\n",
              "  <matplotlib.lines.Line2D at 0x7f2a2fb1d0d0>,\n",
              "  <matplotlib.lines.Line2D at 0x7f2a2fb2d610>,\n",
              "  <matplotlib.lines.Line2D at 0x7f2a2fb3eb50>],\n",
              " 'means': []}"
            ]
          },
          "metadata": {},
          "execution_count": 13
        },
        {
          "output_type": "display_data",
          "data": {
            "text/plain": [
              "<Figure size 432x288 with 1 Axes>"
            ],
            "image/png": "[encoded data removed]"
          },
          "metadata": {
            "needs_background": "light"
          }
        }
      ]
    },
    {
      "cell_type": "markdown",
      "source": [
        "**Scatter plot**"
      ],
      "metadata": {
        "id": "KIVWZw7HfnPe"
      }
    },
    {
      "cell_type": "markdown",
      "source": [
        "Scatter plot indicates the chance of high scoring with positive Linear relationship"
      ],
      "metadata": {
        "id": "4xC4LNXrfxVa"
      }
    },
    {
      "cell_type": "code",
      "source": [
        "#plotting the Scatter plot to visual the data\n",
        "sns.set_style('dark')\n",
        "sns.stripplot(x=data['Hours'], y=data['Scores'])\n",
        "plt.title('Hours spent vs Score secured',fontsize = 20)\n",
        "plt.xlabel('Hours spent',fontsize = 15)\n",
        "plt.ylabel('Score',fontsize = 15)\n",
        "plt.show()"
      ],
      "metadata": {
        "colab": {
          "base_uri": "https://localhost:8080/",
          "height": 305
        },
        "id": "Zi6_rlIuPANl",
        "outputId": "4ca79384-85af-474b-d26e-4befd06ebf52"
      },
      "execution_count": null,
      "outputs": [
        {
          "output_type": "display_data",
          "data": {
            "text/plain": [
              "<Figure size 432x288 with 1 Axes>"
            ],
            "image/png": "[encoded data removed]"
          },
          "metadata": {}
        }
      ]
    },
    {
      "cell_type": "markdown",
      "source": [
        "**Regression plot**"
      ],
      "metadata": {
        "id": "d2mXK-UYf3zw"
      }
    },
    {
      "cell_type": "code",
      "source": [
        "#plotting the Regression plot plot to visual the data\n",
        "sns.regplot(x= data['Hours'], y= data['Scores'])\n",
        "plt.title('Regression Plot',size=20)\n",
        "plt.ylabel('Score', size=15)\n",
        "plt.xlabel('Hours spent', size=15)\n",
        "plt.show()\n",
        "print(data.corr())"
      ],
      "metadata": {
        "colab": {
          "base_uri": "https://localhost:8080/",
          "height": 357
        },
        "id": "PDCfAILvPLBQ",
        "outputId": "0016b8e0-2ae6-4ea3-f7bc-8ddcfb927d6a"
      },
      "execution_count": null,
      "outputs": [
        {
          "output_type": "display_data",
          "data": {
            "text/plain": [
              "<Figure size 432x288 with 1 Axes>"
            ],
            "image/png": "[encoded data removed]"
          },
          "metadata": {}
        },
        {
          "output_type": "stream",
          "name": "stdout",
          "text": [
            "           Hours    Scores\n",
            "Hours   1.000000  0.976191\n",
            "Scores  0.976191  1.000000\n"
          ]
        }
      ]
    },
    {
      "cell_type": "markdown",
      "source": [
        "## **Training the model**"
      ],
      "metadata": {
        "id": "9KVB3vBdgJ_7"
      }
    },
    {
      "cell_type": "code",
      "source": [
        "#importing the libraries to get the dataset\n",
        "from sklearn.model_selection import train_test_split"
      ],
      "metadata": {
        "id": "h1ZO5ZrlPNAr"
      },
      "execution_count": null,
      "outputs": []
    },
    {
      "cell_type": "markdown",
      "source": [
        "**Splitting the data**"
      ],
      "metadata": {
        "id": "Itx2yCqHgSCn"
      }
    },
    {
      "cell_type": "code",
      "source": [
        "# X and y from the Data\n",
        "X = data.iloc[:, :-1].values  \n",
        "Y = data.iloc[:, 1].values"
      ],
      "metadata": {
        "id": "LBPEardQPRiD"
      },
      "execution_count": null,
      "outputs": []
    },
    {
      "cell_type": "code",
      "source": [
        "trainX,testX,trainY,testY = train_test_split(X,Y,random_state = 0)"
      ],
      "metadata": {
        "id": "N2UWq1xIPVnj"
      },
      "execution_count": null,
      "outputs": []
    },
    {
      "cell_type": "code",
      "source": [
        "#splitting the data using PARETo\n",
        "print(\"X train.shape =\", trainX.shape)\n",
        "print(\"Y train.shape =\", trainY.shape)\n",
        "print(\"X test.shape  =\", testX.shape)\n",
        "print(\"Y test.shape  =\", testY.shape)"
      ],
      "metadata": {
        "colab": {
          "base_uri": "https://localhost:8080/"
        },
        "id": "9dmA3Sq7PZ3L",
        "outputId": "1b3bd13f-e1ca-469d-a298-178bc0806481"
      },
      "execution_count": null,
      "outputs": [
        {
          "output_type": "stream",
          "name": "stdout",
          "text": [
            "X train.shape = (18, 1)\n",
            "Y train.shape = (18,)\n",
            "X test.shape  = (7, 1)\n",
            "Y test.shape  = (7,)\n"
          ]
        }
      ]
    },
    {
      "cell_type": "code",
      "source": [
        "#fitting the data into model\n",
        "from sklearn.linear_model import LinearRegression"
      ],
      "metadata": {
        "id": "M1Vx24iAPe4B"
      },
      "execution_count": null,
      "outputs": []
    },
    {
      "cell_type": "markdown",
      "source": [
        "**Fitting the data**"
      ],
      "metadata": {
        "id": "JMrFDgJjgZsR"
      }
    },
    {
      "cell_type": "code",
      "source": [
        "LReg = LinearRegression()\n"
      ],
      "metadata": {
        "id": "8SAIGzKEPkal"
      },
      "execution_count": null,
      "outputs": []
    },
    {
      "cell_type": "code",
      "source": [
        "LReg.fit(trainX,trainY)\n",
        "print(\"Data got fit\")"
      ],
      "metadata": {
        "colab": {
          "base_uri": "https://localhost:8080/"
        },
        "id": "-rgy4_dMPv5B",
        "outputId": "520899d0-b3a3-40e8-e5ce-a1d4566a9c5b"
      },
      "execution_count": null,
      "outputs": [
        {
          "output_type": "stream",
          "name": "stdout",
          "text": [
            "Data got fit\n"
          ]
        }
      ]
    },
    {
      "cell_type": "code",
      "source": [
        "print(\"X1 =\",LReg.intercept_,\"\\nX2 =\",LReg.coef_)\n",
        "# X1 is Intercept & Slope of the line is X2."
      ],
      "metadata": {
        "colab": {
          "base_uri": "https://localhost:8080/"
        },
        "id": "CaDhcbFqP2VI",
        "outputId": "6c51b9ae-4217-4ade-9ffa-216caf772500"
      },
      "execution_count": null,
      "outputs": [
        {
          "output_type": "stream",
          "name": "stdout",
          "text": [
            "X1 = 1.9322042531516601 \n",
            "X2 = [9.94167834]\n"
          ]
        }
      ]
    },
    {
      "cell_type": "code",
      "source": [
        "Y1 = LReg.intercept_ + LReg.coef_*trainX"
      ],
      "metadata": {
        "id": "g8QwfJ_wP6tP"
      },
      "execution_count": null,
      "outputs": []
    },
    {
      "cell_type": "code",
      "source": [
        "#plotting the graph\n",
        "sns.set_style('darkgrid')\n",
        "plt.scatter(trainX,trainY,color='black')\n",
        "plt.title(\"Train set\",fontsize=20)\n",
        "plt.plot(trainX,Y1,color='blue')\n",
        "plt.xlabel(\"Hours\",fontsize=15)\n",
        "plt.ylabel(\"Scores\",fontsize=15)\n",
        "plt.show()"
      ],
      "metadata": {
        "colab": {
          "base_uri": "https://localhost:8080/",
          "height": 305
        },
        "id": "adyuELfCP-4n",
        "outputId": "4e13f9ca-1c7b-40aa-de6d-5c8bb9b5e292"
      },
      "execution_count": null,
      "outputs": [
        {
          "output_type": "display_data",
          "data": {
            "text/plain": [
              "<Figure size 432x288 with 1 Axes>"
            ],
            "image/png": "[encoded data removed]"
          },
          "metadata": {}
        }
      ]
    },
    {
      "cell_type": "markdown",
      "source": [
        "## **Testing the model**"
      ],
      "metadata": {
        "id": "ZyFnKzwdgn7u"
      }
    },
    {
      "cell_type": "code",
      "source": [
        "#Test data scores\n",
        "predictindOFy = LReg.predict(testX)\n",
        "prediction = pd.DataFrame({'Hours': [i[0] for i in testX], 'Predicted Marks': [k for k in predictindOFy]})\n",
        "prediction"
      ],
      "metadata": {
        "id": "PPP2MpHPQG48",
        "outputId": "85e480ae-b372-40d9-ec5d-ecc52d834b9c",
        "colab": {
          "base_uri": "https://localhost:8080/",
          "height": 269
        }
      },
      "execution_count": null,
      "outputs": [
        {
          "output_type": "execute_result",
          "data": {
            "text/plain": [
              "   Hours  Predicted Marks\n",
              "0    1.5        16.844722\n",
              "1    3.2        33.745575\n",
              "2    7.4        75.500624\n",
              "3    2.5        26.786400\n",
              "4    5.9        60.588106\n",
              "5    3.8        39.710582\n",
              "6    1.9        20.821393"
            ],
            "text/html": [
              "\n",
              "  <div id=\"df-913712b3-b36a-4eef-8c72-f64dd42445da\">\n",
              "    <div class=\"colab-df-container\">\n",
              "      <div>\n",
              "<style scoped>\n",
              "    .dataframe tbody tr th:only-of-type {\n",
              "        vertical-align: middle;\n",
              "    }\n",
              "\n",
              "    .dataframe tbody tr th {\n",
              "        vertical-align: top;\n",
              "    }\n",
              "\n",
              "    .dataframe thead th {\n",
              "        text-align: right;\n",
              "    }\n",
              "</style>\n",
              "<table border=\"1\" class=\"dataframe\">\n",
              "  <thead>\n",
              "    <tr style=\"text-align: right;\">\n",
              "      <th></th>\n",
              "      <th>Hours</th>\n",
              "      <th>Predicted Marks</th>\n",
              "    </tr>\n",
              "  </thead>\n",
              "  <tbody>\n",
              "    <tr>\n",
              "      <th>0</th>\n",
              "      <td>1.5</td>\n",
              "      <td>16.844722</td>\n",
              "    </tr>\n",
              "    <tr>\n",
              "      <th>1</th>\n",
              "      <td>3.2</td>\n",
              "      <td>33.745575</td>\n",
              "    </tr>\n",
              "    <tr>\n",
              "      <th>2</th>\n",
              "      <td>7.4</td>\n",
              "      <td>75.500624</td>\n",
              "    </tr>\n",
              "    <tr>\n",
              "      <th>3</th>\n",
              "      <td>2.5</td>\n",
              "      <td>26.786400</td>\n",
              "    </tr>\n",
              "    <tr>\n",
              "      <th>4</th>\n",
              "      <td>5.9</td>\n",
              "      <td>60.588106</td>\n",
              "    </tr>\n",
              "    <tr>\n",
              "      <th>5</th>\n",
              "      <td>3.8</td>\n",
              "      <td>39.710582</td>\n",
              "    </tr>\n",
              "    <tr>\n",
              "      <th>6</th>\n",
              "      <td>1.9</td>\n",
              "      <td>20.821393</td>\n",
              "    </tr>\n",
              "  </tbody>\n",
              "</table>\n",
              "</div>\n",
              "      <button class=\"colab-df-convert\" onclick=\"convertToInteractive('df-913712b3-b36a-4eef-8c72-f64dd42445da')\"\n",
              "              title=\"Convert this dataframe to an interactive table.\"\n",
              "              style=\"display:none;\">\n",
              "        \n",
              "  <svg xmlns=\"http://www.w3.org/2000/svg\" height=\"24px\"viewBox=\"0 0 24 24\"\n",
              "       width=\"24px\">\n",
              "    <path d=\"M0 0h24v24H0V0z\" fill=\"none\"/>\n",
              "    <path d=\"M18.56 5.44l.94 2.06.94-2.06 2.06-.94-2.06-.94-.94-2.06-.94 2.06-2.06.94zm-11 1L8.5 8.5l.94-2.06 2.06-.94-2.06-.94L8.5 2.5l-.94 2.06-2.06.94zm10 10l.94 2.06.94-2.06 2.06-.94-2.06-.94-.94-2.06-.94 2.06-2.06.94z\"/><path d=\"M17.41 7.96l-1.37-1.37c-.4-.4-.92-.59-1.43-.59-.52 0-1.04.2-1.43.59L10.3 9.45l-7.72 7.72c-.78.78-.78 2.05 0 2.83L4 21.41c.39.39.9.59 1.41.59.51 0 1.02-.2 1.41-.59l7.78-7.78 2.81-2.81c.8-.78.8-2.07 0-2.86zM5.41 20L4 18.59l7.72-7.72 1.47 1.35L5.41 20z\"/>\n",
              "  </svg>\n",
              "      </button>\n",
              "      \n",
              "  <style>\n",
              "    .colab-df-container {\n",
              "      display:flex;\n",
              "      flex-wrap:wrap;\n",
              "      gap: 12px;\n",
              "    }\n",
              "\n",
              "    .colab-df-convert {\n",
              "      background-color: #E8F0FE;\n",
              "      border: none;\n",
              "      border-radius: 50%;\n",
              "      cursor: pointer;\n",
              "      display: none;\n",
              "      fill: #1967D2;\n",
              "      height: 32px;\n",
              "      padding: 0 0 0 0;\n",
              "      width: 32px;\n",
              "    }\n",
              "\n",
              "    .colab-df-convert:hover {\n",
              "      background-color: #E2EBFA;\n",
              "      box-shadow: 0px 1px 2px rgba(60, 64, 67, 0.3), 0px 1px 3px 1px rgba(60, 64, 67, 0.15);\n",
              "      fill: #174EA6;\n",
              "    }\n",
              "\n",
              "    [theme=dark] .colab-df-convert {\n",
              "      background-color: #3B4455;\n",
              "      fill: #D2E3FC;\n",
              "    }\n",
              "\n",
              "    [theme=dark] .colab-df-convert:hover {\n",
              "      background-color: #434B5C;\n",
              "      box-shadow: 0px 1px 3px 1px rgba(0, 0, 0, 0.15);\n",
              "      filter: drop-shadow(0px 1px 2px rgba(0, 0, 0, 0.3));\n",
              "      fill: #FFFFFF;\n",
              "    }\n",
              "  </style>\n",
              "\n",
              "      <script>\n",
              "        const buttonEl =\n",
              "          document.querySelector('#df-913712b3-b36a-4eef-8c72-f64dd42445da button.colab-df-convert');\n",
              "        buttonEl.style.display =\n",
              "          google.colab.kernel.accessAllowed ? 'block' : 'none';\n",
              "\n",
              "        async function convertToInteractive(key) {\n",
              "          const element = document.querySelector('#df-913712b3-b36a-4eef-8c72-f64dd42445da');\n",
              "          const dataTable =\n",
              "            await google.colab.kernel.invokeFunction('convertToInteractive',\n",
              "                                                     [key], {});\n",
              "          if (!dataTable) return;\n",
              "\n",
              "          const docLinkHtml = 'Like what you see? Visit the ' +\n",
              "            '<a target=\"_blank\" href=https://colab.research.google.com/notebooks/data_table.ipynb>data table notebook</a>'\n",
              "            + ' to learn more about interactive tables.';\n",
              "          element.innerHTML = '';\n",
              "          dataTable['output_type'] = 'display_data';\n",
              "          await google.colab.output.renderOutput(dataTable, element);\n",
              "          const docLink = document.createElement('div');\n",
              "          docLink.innerHTML = docLinkHtml;\n",
              "          element.appendChild(docLink);\n",
              "        }\n",
              "      </script>\n",
              "    </div>\n",
              "  </div>\n",
              "  "
            ]
          },
          "metadata": {},
          "execution_count": 26
        }
      ]
    },
    {
      "cell_type": "code",
      "source": [
        "#plotting the graph\n",
        "sns.set_style('darkgrid')\n",
        "plt.plot(testX,predictindOFy,color ='yellow')\n",
        "plt.scatter(testX,testY,color='black')\n",
        "plt.title(\"Test set\",fontsize=20)\n",
        "plt.xlabel(\"Hours\",fontsize=15)\n",
        "plt.ylabel(\"Scores\",fontsize=15)\n",
        "plt.show()"
      ],
      "metadata": {
        "id": "2kIXZ7IIQKZd",
        "outputId": "8f43340c-4773-4c72-fdea-9de093f163de",
        "colab": {
          "base_uri": "https://localhost:8080/",
          "height": 305
        }
      },
      "execution_count": null,
      "outputs": [
        {
          "output_type": "display_data",
          "data": {
            "text/plain": [
              "<Figure size 432x288 with 1 Axes>"
            ],
            "image/png": "[encoded data removed]"
          },
          "metadata": {}
        }
      ]
    },
    {
      "cell_type": "code",
      "source": [
        "compare_scores = pd.DataFrame({'Actual Marks': testY, 'Predicted Marks': predictindOFy})\n",
        "compare_scores"
      ],
      "metadata": {
        "id": "pa6AfTf8QP4n",
        "outputId": "ca154c34-faa3-4290-f27e-b659fcd3db2f",
        "colab": {
          "base_uri": "https://localhost:8080/",
          "height": 269
        }
      },
      "execution_count": null,
      "outputs": [
        {
          "output_type": "execute_result",
          "data": {
            "text/plain": [
              "   Actual Marks  Predicted Marks\n",
              "0            20        16.844722\n",
              "1            27        33.745575\n",
              "2            69        75.500624\n",
              "3            30        26.786400\n",
              "4            62        60.588106\n",
              "5            35        39.710582\n",
              "6            24        20.821393"
            ],
            "text/html": [
              "\n",
              "  <div id=\"df-6c62faab-db73-461c-a351-dd8d962c451d\">\n",
              "    <div class=\"colab-df-container\">\n",
              "      <div>\n",
              "<style scoped>\n",
              "    .dataframe tbody tr th:only-of-type {\n",
              "        vertical-align: middle;\n",
              "    }\n",
              "\n",
              "    .dataframe tbody tr th {\n",
              "        vertical-align: top;\n",
              "    }\n",
              "\n",
              "    .dataframe thead th {\n",
              "        text-align: right;\n",
              "    }\n",
              "</style>\n",
              "<table border=\"1\" class=\"dataframe\">\n",
              "  <thead>\n",
              "    <tr style=\"text-align: right;\">\n",
              "      <th></th>\n",
              "      <th>Actual Marks</th>\n",
              "      <th>Predicted Marks</th>\n",
              "    </tr>\n",
              "  </thead>\n",
              "  <tbody>\n",
              "    <tr>\n",
              "      <th>0</th>\n",
              "      <td>20</td>\n",
              "      <td>16.844722</td>\n",
              "    </tr>\n",
              "    <tr>\n",
              "      <th>1</th>\n",
              "      <td>27</td>\n",
              "      <td>33.745575</td>\n",
              "    </tr>\n",
              "    <tr>\n",
              "      <th>2</th>\n",
              "      <td>69</td>\n",
              "      <td>75.500624</td>\n",
              "    </tr>\n",
              "    <tr>\n",
              "      <th>3</th>\n",
              "      <td>30</td>\n",
              "      <td>26.786400</td>\n",
              "    </tr>\n",
              "    <tr>\n",
              "      <th>4</th>\n",
              "      <td>62</td>\n",
              "      <td>60.588106</td>\n",
              "    </tr>\n",
              "    <tr>\n",
              "      <th>5</th>\n",
              "      <td>35</td>\n",
              "      <td>39.710582</td>\n",
              "    </tr>\n",
              "    <tr>\n",
              "      <th>6</th>\n",
              "      <td>24</td>\n",
              "      <td>20.821393</td>\n",
              "    </tr>\n",
              "  </tbody>\n",
              "</table>\n",
              "</div>\n",
              "      <button class=\"colab-df-convert\" onclick=\"convertToInteractive('df-6c62faab-db73-461c-a351-dd8d962c451d')\"\n",
              "              title=\"Convert this dataframe to an interactive table.\"\n",
              "              style=\"display:none;\">\n",
              "        \n",
              "  <svg xmlns=\"http://www.w3.org/2000/svg\" height=\"24px\"viewBox=\"0 0 24 24\"\n",
              "       width=\"24px\">\n",
              "    <path d=\"M0 0h24v24H0V0z\" fill=\"none\"/>\n",
              "    <path d=\"M18.56 5.44l.94 2.06.94-2.06 2.06-.94-2.06-.94-.94-2.06-.94 2.06-2.06.94zm-11 1L8.5 8.5l.94-2.06 2.06-.94-2.06-.94L8.5 2.5l-.94 2.06-2.06.94zm10 10l.94 2.06.94-2.06 2.06-.94-2.06-.94-.94-2.06-.94 2.06-2.06.94z\"/><path d=\"M17.41 7.96l-1.37-1.37c-.4-.4-.92-.59-1.43-.59-.52 0-1.04.2-1.43.59L10.3 9.45l-7.72 7.72c-.78.78-.78 2.05 0 2.83L4 21.41c.39.39.9.59 1.41.59.51 0 1.02-.2 1.41-.59l7.78-7.78 2.81-2.81c.8-.78.8-2.07 0-2.86zM5.41 20L4 18.59l7.72-7.72 1.47 1.35L5.41 20z\"/>\n",
              "  </svg>\n",
              "      </button>\n",
              "      \n",
              "  <style>\n",
              "    .colab-df-container {\n",
              "      display:flex;\n",
              "      flex-wrap:wrap;\n",
              "      gap: 12px;\n",
              "    }\n",
              "\n",
              "    .colab-df-convert {\n",
              "      background-color: #E8F0FE;\n",
              "      border: none;\n",
              "      border-radius: 50%;\n",
              "      cursor: pointer;\n",
              "      display: none;\n",
              "      fill: #1967D2;\n",
              "      height: 32px;\n",
              "      padding: 0 0 0 0;\n",
              "      width: 32px;\n",
              "    }\n",
              "\n",
              "    .colab-df-convert:hover {\n",
              "      background-color: #E2EBFA;\n",
              "      box-shadow: 0px 1px 2px rgba(60, 64, 67, 0.3), 0px 1px 3px 1px rgba(60, 64, 67, 0.15);\n",
              "      fill: #174EA6;\n",
              "    }\n",
              "\n",
              "    [theme=dark] .colab-df-convert {\n",
              "      background-color: #3B4455;\n",
              "      fill: #D2E3FC;\n",
              "    }\n",
              "\n",
              "    [theme=dark] .colab-df-convert:hover {\n",
              "      background-color: #434B5C;\n",
              "      box-shadow: 0px 1px 3px 1px rgba(0, 0, 0, 0.15);\n",
              "      filter: drop-shadow(0px 1px 2px rgba(0, 0, 0, 0.3));\n",
              "      fill: #FFFFFF;\n",
              "    }\n",
              "  </style>\n",
              "\n",
              "      <script>\n",
              "        const buttonEl =\n",
              "          document.querySelector('#df-6c62faab-db73-461c-a351-dd8d962c451d button.colab-df-convert');\n",
              "        buttonEl.style.display =\n",
              "          google.colab.kernel.accessAllowed ? 'block' : 'none';\n",
              "\n",
              "        async function convertToInteractive(key) {\n",
              "          const element = document.querySelector('#df-6c62faab-db73-461c-a351-dd8d962c451d');\n",
              "          const dataTable =\n",
              "            await google.colab.kernel.invokeFunction('convertToInteractive',\n",
              "                                                     [key], {});\n",
              "          if (!dataTable) return;\n",
              "\n",
              "          const docLinkHtml = 'Like what you see? Visit the ' +\n",
              "            '<a target=\"_blank\" href=https://colab.research.google.com/notebooks/data_table.ipynb>data table notebook</a>'\n",
              "            + ' to learn more about interactive tables.';\n",
              "          element.innerHTML = '';\n",
              "          dataTable['output_type'] = 'display_data';\n",
              "          await google.colab.output.renderOutput(dataTable, element);\n",
              "          const docLink = document.createElement('div');\n",
              "          docLink.innerHTML = docLinkHtml;\n",
              "          element.appendChild(docLink);\n",
              "        }\n",
              "      </script>\n",
              "    </div>\n",
              "  </div>\n",
              "  "
            ]
          },
          "metadata": {},
          "execution_count": 28
        }
      ]
    },
    {
      "cell_type": "markdown",
      "source": [
        "**Accuracy**"
      ],
      "metadata": {
        "id": "ob0Gt09Cg3UK"
      }
    },
    {
      "cell_type": "code",
      "source": [
        "from sklearn import metrics"
      ],
      "metadata": {
        "id": "HRWPyuC3QU9y"
      },
      "execution_count": null,
      "outputs": []
    },
    {
      "cell_type": "code",
      "source": [
        "metrics.r2_score(testY,predictindOFy)"
      ],
      "metadata": {
        "id": "znjTLuEwQZeE",
        "outputId": "96508d19-4f65-4698-ecb1-3fa30fcac116",
        "colab": {
          "base_uri": "https://localhost:8080/"
        }
      },
      "execution_count": null,
      "outputs": [
        {
          "output_type": "execute_result",
          "data": {
            "text/plain": [
              "0.9367661043365056"
            ]
          },
          "metadata": {},
          "execution_count": 30
        }
      ]
    },
    {
      "cell_type": "markdown",
      "source": [
        "The Accuracy of the model is 93.67 which is a GOOD MODEL"
      ],
      "metadata": {
        "id": "r2s3wtvrg-6R"
      }
    },
    {
      "cell_type": "markdown",
      "source": [
        "# ***Error prediction by evaluating the model***"
      ],
      "metadata": {
        "id": "kwvHZWaFhDaG"
      }
    },
    {
      "cell_type": "code",
      "source": [
        "#error prediction\n",
        "from sklearn.metrics import mean_squared_error"
      ],
      "metadata": {
        "id": "T3viAp1aQfTN"
      },
      "execution_count": null,
      "outputs": []
    },
    {
      "cell_type": "code",
      "source": [
        "meanSquareError = metrics.mean_squared_error(testY,predictindOFy)\n",
        "print(\"Mean Squared Error is= \",meanSquareError)"
      ],
      "metadata": {
        "id": "kHtiIu6OQm3y",
        "outputId": "02989ec9-26d0-469a-b711-b76048d866f9",
        "colab": {
          "base_uri": "https://localhost:8080/"
        }
      },
      "execution_count": null,
      "outputs": [
        {
          "output_type": "stream",
          "name": "stdout",
          "text": [
            "Mean Squared Error is=  20.33292367497996\n"
          ]
        }
      ]
    },
    {
      "cell_type": "markdown",
      "source": [
        "**The chance of error occuring is stated by Mean Absolute Error**\n",
        "\n"
      ],
      "metadata": {
        "id": "b-tA8pdThRqu"
      }
    },
    {
      "cell_type": "markdown",
      "source": [
        "# ***Score Prediction***"
      ],
      "metadata": {
        "id": "25WkiaeGhVeg"
      }
    },
    {
      "cell_type": "markdown",
      "source": [
        "### **What will be the predicted score of a student if he/she studies for 9.25 hrs/day?**\n"
      ],
      "metadata": {
        "id": "eRqiM9eIhasJ"
      }
    },
    {
      "cell_type": "code",
      "source": [
        "score = LReg.predict([[9.25]])\n",
        "print(\"predicted score if a student studies 9.25 hours per day :\",score)"
      ],
      "metadata": {
        "id": "mzGmlAu3Qrv4",
        "outputId": "05010049-f067-4c09-87cb-d6d2e4c1434f",
        "colab": {
          "base_uri": "https://localhost:8080/"
        }
      },
      "execution_count": null,
      "outputs": [
        {
          "output_type": "stream",
          "name": "stdout",
          "text": [
            "predicted score if a student studies 9.25 hours per day : [93.89272889]\n"
          ]
        }
      ]
    },
    {
      "cell_type": "markdown",
      "source": [
        "## **The regression model predicted the if a student studies for 9.25 hrs/day then he/she is likely to score 93.89 percent marks**"
      ],
      "metadata": {
        "id": "rHDn9nOxhlZn"
      }
    }
  ]
}